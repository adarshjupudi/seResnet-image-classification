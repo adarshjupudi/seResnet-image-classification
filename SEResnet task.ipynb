{
 "cells": [
  {
   "cell_type": "markdown",
   "id": "fe1ad086",
   "metadata": {},
   "source": [
    "# SEResnet on CIFAR-10 image classification"
   ]
  },
  {
   "cell_type": "code",
   "execution_count": 1,
   "id": "6d175c12",
   "metadata": {},
   "outputs": [],
   "source": [
    "#Importing libraries and required frameworks\n",
    "import tensorflow as tf\n",
    "from tensorflow.keras import datasets,layers,models\n",
    "import matplotlib.pyplot as plt\n",
    "import numpy as np"
   ]
  },
  {
   "cell_type": "code",
   "execution_count": 3,
   "id": "36900be2",
   "metadata": {},
   "outputs": [],
   "source": [
    "#Loading the cifar-10 data\n",
    "(X_train,Y_train),(X_test,Y_test)=datasets.cifar10.load_data()"
   ]
  },
  {
   "cell_type": "code",
   "execution_count": null,
   "id": "2788e157",
   "metadata": {},
   "outputs": [],
   "source": [
    "#Understanding the data and dimensions\n",
    "print(X_train.shape)\n",
    "print(X_test.shape)\n",
    "print(Y_train.shape)\n",
    "print(Y_test.shape)"
   ]
  },
  {
   "cell_type": "code",
   "execution_count": null,
   "id": "aa1f401d",
   "metadata": {},
   "outputs": [],
   "source": [
    "Y_train=Y_train.reshape(-1) #Flatten the output into 1-D vector\n"
   ]
  },
  {
   "cell_type": "code",
   "execution_count": null,
   "id": "2459c535",
   "metadata": {},
   "outputs": [],
   "source": [
    "#Naming the classes 0-9 accordingly \n",
    "cifar10_classes = [\"airplane\", \"automobile\", \"bird\", \"cat\", \"deer\", \"dog\", \"frog\", \"horse\", \"ship\", \"truck\"]"
   ]
  },
  {
   "cell_type": "code",
   "execution_count": null,
   "id": "23c2a281",
   "metadata": {},
   "outputs": [],
   "source": [
    "#To visualise the data\n",
    "def plot_sample(X,Y,index):\n",
    "    plt.figure(figsize=(15,2))\n",
    "    plt.imshow(X[index])\n",
    "    plt.xlabel(cifar10_classes[Y[index]])"
   ]
  },
  {
   "cell_type": "code",
   "execution_count": null,
   "id": "6c38e6f3",
   "metadata": {},
   "outputs": [],
   "source": [
    "#check an example\n",
    "plot_sample(X_train,Y_train,2)"
   ]
  },
  {
   "cell_type": "code",
   "execution_count": null,
   "id": "3936c9d9",
   "metadata": {},
   "outputs": [],
   "source": [
    "#scaling the data\n",
    "X_train=X_train/255.0\n",
    "X_test=X_test/255.0"
   ]
  },
  {
   "cell_type": "markdown",
   "id": "a7f11f46",
   "metadata": {},
   "source": [
    "Normal Neural Network"
   ]
  },
  {
   "cell_type": "code",
   "execution_count": null,
   "id": "f6f79f03",
   "metadata": {},
   "outputs": [],
   "source": [
    "nnn=models.Sequential([\n",
    "    layers.Flatten(input_shape=(32,32,3)),\n",
    "    layers.Dense(3000,activation='relu'),\n",
    "    layers.Dense(1000,activation='relu'),\n",
    "    layers.Dense(10,activation='softmax')\n",
    "])\n",
    "nnn.compile(optimizer='adam',loss='sparse_categorical_crossentropy',metrics=['accuracy'])\n",
    "nnn.fit(X_train,Y_train,epochs=10)"
   ]
  },
  {
   "cell_type": "code",
   "execution_count": null,
   "id": "be5e4f2b",
   "metadata": {},
   "outputs": [],
   "source": [
    "#checking the performance\n",
    "nnn.evaluate(X_test,Y_test)"
   ]
  },
  {
   "cell_type": "markdown",
   "id": "5a474ced",
   "metadata": {},
   "source": [
    "\n",
    "Accuracy of a normal Neural Network on training set=48.57\n",
    "\n",
    "Accuracy of a normal Neural Network on test set=47.5"
   ]
  },
  {
   "cell_type": "markdown",
   "id": "874b6384",
   "metadata": {},
   "source": [
    "Convolutional Neural Network"
   ]
  },
  {
   "cell_type": "code",
   "execution_count": null,
   "id": "c0865e50",
   "metadata": {},
   "outputs": [],
   "source": [
    "cnn=models.Sequential([\n",
    "    #cnn\n",
    "    layers.Conv2D(filters=32,activation='relu',kernel_size=(3,3),input_shape=(32,32,3)),\n",
    "    layers.MaxPooling2D((2,2)),\n",
    "\n",
    "    layers.Conv2D(filters=32,activation='relu',kernel_size=(3,3)),\n",
    "    layers.MaxPooling2D((2,2)),\n",
    "    \n",
    "    layers.Flatten(),\n",
    "    layers.Dense(64,activation='relu'),\n",
    "    layers.Dense(10,activation='softmax')\n",
    "])\n",
    "cnn.compile(optimizer='adam',loss='sparse_categorical_crossentropy',metrics=['accuracy'])\n",
    "cnn.fit(X_train,Y_train,epochs=10)"
   ]
  },
  {
   "cell_type": "code",
   "execution_count": null,
   "id": "6fdcb080",
   "metadata": {},
   "outputs": [],
   "source": [
    "cnn.evaluate(X_test,Y_test)"
   ]
  },
  {
   "cell_type": "markdown",
   "id": "ce3dfc8a",
   "metadata": {},
   "source": [
    "Accuracy of normal CNN on training set=74.48%\n",
    "\n",
    "Accuracy of normal CNN on test set=67.6%\n"
   ]
  },
  {
   "cell_type": "code",
   "execution_count": null,
   "id": "bdf02ea3",
   "metadata": {},
   "outputs": [],
   "source": [
    "import tensorflow as tf\n",
    "from tensorflow.keras import layers\n",
    "\n",
    "class ResNetBlock(tf.keras.Model):\n",
    "    def __init__(self, in_channels, out_channels, stride=1):\n",
    "        super(ResNetBlock, self).__init__()\n",
    "        #Two convolutional layers\n",
    "        self.conv1 = layers.Conv2D(filters=out_channels, kernel_size=3,strides=stride, padding='same', use_bias=False)\n",
    "        self.bn1 = layers.BatchNormalization()\n",
    "\n",
    "        self.conv2 = layers.Conv2D(filters=out_channels, kernel_size=3,strides=1, padding='same', use_bias=False)\n",
    "        self.bn2 = layers.BatchNormalization()\n",
    "\n",
    "        self.downsample = None\n",
    "        #Downsample if it doesnt match\n",
    "        if stride != 1 or in_channels != out_channels:\n",
    "            self.downsample = tf.keras.Sequential([\n",
    "                layers.Conv2D(filters=out_channels, kernel_size=1, strides=stride,padding='same', use_bias=False),\n",
    "                layers.BatchNormalization()\n",
    "            ])\n",
    "\n",
    "    def call(self, x, training=False):\n",
    "        identity = x  # Store the input for skip connection\n",
    "\n",
    "        out = self.conv1(x)\n",
    "        out = self.bn1(out, training=training)\n",
    "        out = tf.nn.relu(out)\n",
    "\n",
    "        out = self.conv2(out)\n",
    "        out = self.bn2(out, training=training)\n",
    "\n",
    "        if self.downsample is not None:\n",
    "            identity = self.downsample(x)\n",
    "\n",
    "        out += identity #adding identity\n",
    "        out = tf.nn.relu(out)\n",
    "        return out\n"
   ]
  },
  {
   "cell_type": "code",
   "execution_count": null,
   "id": "d440b686",
   "metadata": {},
   "outputs": [],
   "source": [
    "class SEBlock(tf.keras.layers.Layer):\n",
    "    def __init__(self, channels, reduction=16):\n",
    "        super(SEBlock, self).__init__()\n",
    "        #squeeze step \n",
    "        self.global_avg_pool = layers.GlobalAveragePooling2D()\n",
    "        #Excitation step used as a bottle neck layer\n",
    "        self.fc1 = layers.Dense(channels // reduction, activation='relu')\n",
    "        self.fc2 = layers.Dense(channels, activation='sigmoid')\n",
    "        #scaling \n",
    "        self.reshape = layers.Reshape((1, 1, channels))\n",
    "\n",
    "    def call(self, x):\n",
    "        se = self.global_avg_pool(x)\n",
    "        se = self.fc1(se)\n",
    "        se = self.fc2(se)\n",
    "        se = self.reshape(se)\n",
    "        return x * se\n"
   ]
  },
  {
   "cell_type": "code",
   "execution_count": null,
   "id": "889e9a99",
   "metadata": {},
   "outputs": [],
   "source": [
    "class SEResNetBlock(tf.keras.Model):\n",
    "    def __init__(self, in_channels, out_channels, stride=1, reduction=16):\n",
    "        super(SEResNetBlock, self).__init__()\n",
    "        #Standard res block\n",
    "        self.res_block = ResNetBlock(in_channels, out_channels, stride)\n",
    "        #se block\n",
    "        self.se_block = SEBlock(out_channels, reduction)\n",
    "\n",
    "    def call(self, x, training=False):\n",
    "        out = self.res_block(x, training=training)\n",
    "        out = self.se_block(out)\n",
    "        return out\n"
   ]
  },
  {
   "cell_type": "code",
   "execution_count": null,
   "id": "ceaf8cb6",
   "metadata": {},
   "outputs": [],
   "source": [
    "model = tf.keras.Sequential([\n",
    "    tf.keras.Input(shape=(32, 32, 3)),\n",
    "\n",
    "    # Initial conv layer (adjusted for CIFAR-10 input size)\n",
    "    layers.Conv2D(64, kernel_size=3, strides=1, padding='same', use_bias=False),\n",
    "    layers.BatchNormalization(),\n",
    "    layers.ReLU(),\n",
    "\n",
    "    # Stage 1\n",
    "    SEResNetBlock(64, 64, stride=1),\n",
    "    SEResNetBlock(64, 64, stride=1),\n",
    "\n",
    "    # Stage 2\n",
    "    SEResNetBlock(64, 128, stride=2),\n",
    "    SEResNetBlock(128, 128, stride=1),\n",
    "\n",
    "    # Stage 3\n",
    "    SEResNetBlock(128, 256, stride=2),\n",
    "    SEResNetBlock(256, 256, stride=1),\n",
    "\n",
    "    # Stage 4\n",
    "    SEResNetBlock(256, 512, stride=2),\n",
    "    SEResNetBlock(512, 512, stride=1),\n",
    "\n",
    "    # Classification head\n",
    "    layers.GlobalAveragePooling2D(),\n",
    "    layers.Flatten(),\n",
    "    layers.Dense(10, activation='softmax')  # 10 classes for CIFAR-10\n",
    "])\n",
    "\n"
   ]
  },
  {
   "cell_type": "code",
   "execution_count": null,
   "id": "bbc4438a",
   "metadata": {},
   "outputs": [],
   "source": [
    "model.compile(\n",
    "    optimizer=tf.keras.optimizers.Adam(learning_rate=0.001),\n",
    "    loss='sparse_categorical_crossentropy',\n",
    "    metrics=['accuracy']\n",
    ")\n"
   ]
  },
  {
   "cell_type": "code",
   "execution_count": null,
   "id": "4b73709e",
   "metadata": {},
   "outputs": [],
   "source": [
    "#Training the model\n",
    "model.fit(\n",
    "    X_train, Y_train,\n",
    "    epochs=10,\n",
    ")\n"
   ]
  },
  {
   "cell_type": "markdown",
   "id": "89f4694b",
   "metadata": {},
   "source": [
    "Accuracy of training set=95.49%\n",
    "\n",
    "Accuracy of test set=86.87%"
   ]
  },
  {
   "cell_type": "markdown",
   "id": "ec01117a",
   "metadata": {},
   "source": [
    "JUPUDI ADARSH \n",
    "\n",
    "24CS01031"
   ]
  }
 ],
 "metadata": {
  "kernelspec": {
   "display_name": "myenv",
   "language": "python",
   "name": "python3"
  },
  "language_info": {
   "codemirror_mode": {
    "name": "ipython",
    "version": 3
   },
   "file_extension": ".py",
   "mimetype": "text/x-python",
   "name": "python",
   "nbconvert_exporter": "python",
   "pygments_lexer": "ipython3",
   "version": "3.11.9"
  }
 },
 "nbformat": 4,
 "nbformat_minor": 5
}
